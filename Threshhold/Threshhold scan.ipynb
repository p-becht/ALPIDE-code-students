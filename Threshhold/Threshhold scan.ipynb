{
 "cells": [
  {
   "cell_type": "code",
   "execution_count": 1,
   "metadata": {
    "scrolled": true
   },
   "outputs": [],
   "source": [
    "import sys\n",
    "import matplotlib\n",
    "import matplotlib.pyplot as plt\n",
    "import numpy as np\n",
    "import configparser\n",
    "import os\n",
    "import tempfile\n",
    "import subprocess\n",
    "\n",
    "RN,BBV,VCASN,ITHR = np.loadtxt(\"Sheet.csv\",delimiter=\",\",usecols=(0,1,2,3),skiprows=1,unpack=True)\n",
    "VCASN2 = VCASN +12\n",
    "\n",
    "def replace_key(filename, key, value):\n",
    "    with open(filename, 'r') as f_in, tempfile.NamedTemporaryFile(\n",
    "            'w', dir=os.path.dirname(filename), delete=False) as f_out:\n",
    "        for line in f_in.readlines():\n",
    "            if line.startswith(key):\n",
    "                line = \"\\t\".join((line.split('\\t')[0],'{}'.format(value)))\n",
    "            f_out.write(line)\n",
    "                                   \n",
    "    # remove old version\n",
    "    os.unlink(filename)\n",
    "\n",
    "    # rename new version\n",
    "    os.rename(f_out.name, filename)\n",
    "\n",
    "for i in range (len(RN)):\n",
    "    replace_key(\"Config1.cfg\", \"ITHR\\t\",str(int(ITHR[i]))+\"\\n\" )\n",
    "    replace_key(\"Config1.cfg\", \"VCASN\\t\",str(int(VCASN[i]))+\"\\n\" )\n",
    "    replace_key(\"Config1.cfg\", \"VCASN2\\t\",str(int(VCASN2[i]))+\"\\n\" )\n",
    "    subprocess.call([\"./testscript.sh\"])"
   ]
  },
  {
   "cell_type": "code",
   "execution_count": null,
   "metadata": {},
   "outputs": [],
   "source": []
  }
 ],
 "metadata": {
  "kernelspec": {
   "display_name": "Python 3",
   "language": "python",
   "name": "python3"
  },
  "language_info": {
   "codemirror_mode": {
    "name": "ipython",
    "version": 3
   },
   "file_extension": ".py",
   "mimetype": "text/x-python",
   "name": "python",
   "nbconvert_exporter": "python",
   "pygments_lexer": "ipython3",
   "version": "3.7.1"
  }
 },
 "nbformat": 4,
 "nbformat_minor": 2
}
