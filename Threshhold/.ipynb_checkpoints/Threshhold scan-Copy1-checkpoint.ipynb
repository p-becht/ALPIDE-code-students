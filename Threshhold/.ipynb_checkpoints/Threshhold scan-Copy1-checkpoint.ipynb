{
 "cells": [
  {
   "cell_type": "code",
   "execution_count": 54,
   "metadata": {
    "scrolled": true
   },
   "outputs": [
    {
     "name": "stdout",
     "output_type": "stream",
     "text": [
      "[47. 47. 47. 47. 47. 47. 47. 50. 50. 50. 50. 50. 50. 50. 53. 53. 53. 53.\n",
      " 53. 53. 53. 56. 56. 56. 56. 56. 56. 56. 59. 59. 59. 59. 59. 59. 59. 62.\n",
      " 62. 62. 62. 62. 62. 62. 65. 65. 65. 65. 65. 65. 65. 67. 67. 67. 67. 67.\n",
      " 67. 67. 47. 47. 47. 47. 47. 47. 47. 50. 50. 50. 50. 50. 50. 50. 53. 53.\n",
      " 53. 53. 53. 53. 53. 56. 56. 56. 56. 56. 56. 56. 59. 59. 59. 59. 59. 59.\n",
      " 59. 62. 62. 62. 62. 62. 62. 62. 65. 65. 65. 65. 65. 65. 65. 67. 67. 67.\n",
      " 67. 67. 67. 67. 47. 47. 47. 47. 47. 47. 47. 50. 50. 50. 50. 50. 50. 50.\n",
      " 53. 53. 53. 53. 53. 53. 53. 56. 56. 56. 56. 56. 56. 56. 59. 59. 59. 59.\n",
      " 59. 59. 59. 62. 62. 62. 62. 62. 62. 62. 65. 65. 65. 65. 65. 65. 65. 67.\n",
      " 67. 67. 67. 67. 67. 67. 47. 47. 47. 47. 47. 47. 47. 50. 50. 50. 50. 50.\n",
      " 50. 50. 53. 53. 53. 53. 53. 53. 53. 56. 56. 56. 56. 56. 56. 56. 59. 59.\n",
      " 59. 59. 59. 59. 59. 62. 62. 62. 62. 62. 62. 62. 65. 65. 65. 65. 65. 65.\n",
      " 65. 67. 67. 67. 67. 67. 67. 67.]\n"
     ]
    }
   ],
   "source": [
    "import sys\n",
    "import matplotlib\n",
    "import matplotlib.pyplot as plt\n",
    "import numpy as np\n",
    "import configparser\n",
    "import os\n",
    "import tempfile\n",
    "\n",
    "\n",
    "#input: ./runtest Trhesholdsomething Maskstages DAC(0) DAC(50)  VCASN ITHR\n",
    "\n",
    "\n",
    "#Einlesen der 5 Spektren\n",
    "#lamda_h2_1,counts_h2_1 =np.loadtxt('Wt',usecols=(2,3),converters={2:comma_to_float,3:comma_to_float},unpack=True)\n",
    "\n",
    "RN,BBV,VCASN,ITHR = np.loadtxt(\"Sheet.csv\",delimiter=\",\",usecols=(0,1,2,3),skiprows=1,unpack=True)\n"
   ]
  },
  {
   "cell_type": "code",
   "execution_count": 41,
   "metadata": {},
   "outputs": [
    {
     "ename": "SyntaxError",
     "evalue": "invalid syntax (<ipython-input-41-4466431f20e3>, line 4)",
     "output_type": "error",
     "traceback": [
      "\u001b[1;36m  File \u001b[1;32m\"<ipython-input-41-4466431f20e3>\"\u001b[1;36m, line \u001b[1;32m4\u001b[0m\n\u001b[1;33m    for line 12:\u001b[0m\n\u001b[1;37m              ^\u001b[0m\n\u001b[1;31mSyntaxError\u001b[0m\u001b[1;31m:\u001b[0m invalid syntax\n"
     ]
    }
   ],
   "source": [
    "\"\"\"def readconf(fn):\n",
    "    ret = {}\n",
    "    with file(fn) as fp:\n",
    "        for line in fp:\n",
    "            # Assume whitespace is ignorable\n",
    "            line = line.strip()\n",
    "            if not line or line.startswith('#'): continue\n",
    " \n",
    "            boolval = True\n",
    "            # Assume leading \";\" means a false boolean\n",
    "            #if line.startswith(';'):\n",
    "                # Remove one or more leading semicolons\n",
    "             #   line = line.lstrip(';')\n",
    "                # If more than just one word, not a valid boolean\n",
    "              #  if len(line.split()) != 1: continue\n",
    "               # boolval = False\n",
    " \n",
    "            bits = line.split(None, 1)\n",
    "            if len(bits) == 1:\n",
    "                # Assume booleans are just one standalone word\n",
    "                k = bits[0]\n",
    "                v = boolval\n",
    "            else:\n",
    "                # Assume more than one word is a string value\n",
    "                k, v = bits\n",
    "            ret[k.lower()] = v\n",
    "    return ret\n",
    " \n",
    " \n",
    "\"\"\"if __name__ == '__main__':\n",
    "    conf = readconf(sys.argv[1])\n",
    "    for k, v in sorted(conf.items()):\n",
    "        print k, '=', v\"\"\"\n",
    "config = configparser.ConfigParser()\n",
    "file = config.read('Config.cfg')\n",
    "readconf('Config.cfg')\"\"\""
   ]
  },
  {
   "cell_type": "code",
   "execution_count": null,
   "metadata": {},
   "outputs": [],
   "source": [
    "\"\"\"reading_file = open(\"Config1.cfg\", \"r\")\n",
    "\n",
    "new_file_content = \"\"\n",
    "for line in reading_file:\n",
    "    stripped_line = line.strip()\n",
    "    new_line = stripped_line.replace(\"old string\", \"new string\")\n",
    "    new_file_content += new_line +\"\\n\"\n",
    "reading_file.close()\n",
    "\n",
    "writing_file = open(\"Config1.cfg\", \"w\")\n",
    "writing_file.write(new_file_content)\n",
    "writing_file.close()\n",
    "\"\"\""
   ]
  },
  {
   "cell_type": "code",
   "execution_count": 66,
   "metadata": {},
   "outputs": [],
   "source": [
    "def replace_key(filename, key, value):\n",
    "    with open(filename, 'r') as f_in, tempfile.NamedTemporaryFile(\n",
    "            'w', dir=os.path.dirname(filename), delete=False) as f_out:\n",
    "        for line in f_in.readlines():\n",
    "            if line.startswith(key):\n",
    "                line = \"\\t\".join((line.split('\\t')[0],'{}'.format(value)))\n",
    "            f_out.write(line)\n",
    "                                   \n",
    "    # remove old version\n",
    "    os.unlink(filename)\n",
    "\n",
    "    # rename new version\n",
    "    os.rename(f_out.name, filename)\n",
    "replace_key(\"Config1.cfg\", \"ITHR\\t\",\"4\\n\" )\n",
    "replace_key(\"Config1.cfg\", \"VCASN\\t\",\"\\n\" )\n",
    "replace_key(\"Config1.cfg\", \"VCASN2\\t\",\"7\\n\" )\n"
   ]
  }
 ],
 "metadata": {
  "kernelspec": {
   "display_name": "Python 3",
   "language": "python",
   "name": "python3"
  },
  "language_info": {
   "codemirror_mode": {
    "name": "ipython",
    "version": 3
   },
   "file_extension": ".py",
   "mimetype": "text/x-python",
   "name": "python",
   "nbconvert_exporter": "python",
   "pygments_lexer": "ipython3",
   "version": "3.7.1"
  }
 },
 "nbformat": 4,
 "nbformat_minor": 2
}
